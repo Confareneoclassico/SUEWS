{
 "cells": [
  {
   "cell_type": "code",
   "execution_count": 15,
   "metadata": {
    "collapsed": false,
    "deletable": true,
    "editable": true
   },
   "outputs": [],
   "source": [
    "import SuPy.SuPy_module as sp\n",
    "import os\n",
    "import glob\n",
    "import numpy as np\n",
    "import pandas as pd\n",
    "from pandas import DataFrame as df\n",
    "import matplotlib.pyplot as plt\n",
    "import collections\n",
    "reload(sp)\n",
    "\n",
    "# initialise SUEWS settings\n",
    "dir_input = './Input'\n",
    "dict_init = sp.init_SUEWS_dict(dir_input)\n",
    "\n",
    "\n",
    "# load met forcing\n",
    "filecode = dict_init[1]['mod_config']['filecode']\n",
    "resolutionfilesin = dict_init[1]['mod_config']['resolutionfilesin']\n",
    "list_file_MetForcing = glob.glob(os.path.join(\n",
    "    dir_input, '{}*{}*txt'.format(filecode, resolutionfilesin / 60 / 12)))\n",
    "df_forcing = sp.load_SUEWS_MetForcing_df(list_file_MetForcing[0])\n",
    "\n",
    "\n",
    "# # main calculation\n",
    "# # initialise dicts for holding results and model states\n",
    "# dict_output = {}\n",
    "# dict_state_grid = {grid: sub_dict['state_init']\n",
    "#                    for grid, sub_dict in dict_init.items()}\n",
    "# # temporal loop\n",
    "# for tstep in df_forcing.index[:100]:\n",
    "#     # print 'cal at: ',tstep\n",
    "#     # initialise output of tstep:\n",
    "#     dict_output.update({tstep: {}})\n",
    "#     # load met_forcing if the same across all grids:\n",
    "#     met_forcing_tstep = sp.proc_met_forcing(df_forcing, tstep)\n",
    "#     # spatial loop\n",
    "#     for grid in dict_state_grid.keys():\n",
    "#         state_old = dict_state_grid[grid]\n",
    "#         mod_config = dict_init[grid]['mod_config']\n",
    "#         # xx=sp.suews_cal_tstep(\n",
    "#         #     state_old, met_forcing_tstep, mod_config)\n",
    "#         # calculation at one step:\n",
    "#         state_new, output_tstep = sp.suews_cal_tstep(\n",
    "#             state_old, met_forcing_tstep, mod_config)\n",
    "#         # update model state\n",
    "#         dict_state_grid[grid].update(state_new)\n",
    "#         # update output at tstep for the current grid\n",
    "#         dict_output[tstep].update({grid: output_tstep})\n",
    "#         # print 'end at ',tstep,'for',grid\n",
    "\n",
    "# # convert dict_output to DataFrame\n",
    "# # type(pd.DataFrame.from_dict(dict_output).loc[1, 1])\n",
    "# df_res = pd.DataFrame.from_dict(dict_output)"
   ]
  },
  {
   "cell_type": "code",
   "execution_count": 61,
   "metadata": {
    "collapsed": false,
    "deletable": true,
    "editable": true
   },
   "outputs": [],
   "source": [
    "reload(sp);"
   ]
  },
  {
   "cell_type": "code",
   "execution_count": 3,
   "metadata": {
    "collapsed": false,
    "deletable": true,
    "editable": true
   },
   "outputs": [],
   "source": [
    "%load_ext line_profiler"
   ]
  },
  {
   "cell_type": "code",
   "execution_count": null,
   "metadata": {
    "collapsed": false,
    "deletable": true,
    "editable": true,
    "scrolled": true
   },
   "outputs": [],
   "source": [
    "%lprun -f sp.load_SUEWS_MetForcing_df sp.load_SUEWS_MetForcing_df(list_file_MetForcing[0])"
   ]
  },
  {
   "cell_type": "code",
   "execution_count": 21,
   "metadata": {
    "collapsed": false,
    "deletable": true,
    "editable": true
   },
   "outputs": [],
   "source": [
    "# %lprun -f sp.run_suews sp.run_suews(df_forcing.iloc[:], dict_init)"
   ]
  },
  {
   "cell_type": "code",
   "execution_count": 64,
   "metadata": {
    "collapsed": false,
    "deletable": true,
    "editable": true
   },
   "outputs": [],
   "source": [
    "%lprun -f sp.suews_cal_tstep sp.run_suews(df_forcing.iloc[:500], dict_init)"
   ]
  },
  {
   "cell_type": "code",
   "execution_count": 39,
   "metadata": {
    "collapsed": false
   },
   "outputs": [
    {
     "data": {
      "text/plain": [
       "['2.12', '3']"
      ]
     },
     "execution_count": 39,
     "metadata": {},
     "output_type": "execute_result"
    }
   ],
   "source": [
    "[str(x) for x in [2.12,3]]"
   ]
  },
  {
   "cell_type": "code",
   "execution_count": null,
   "metadata": {
    "collapsed": true
   },
   "outputs": [],
   "source": []
  }
 ],
 "metadata": {
  "kernelspec": {
   "display_name": "Python 2",
   "language": "python",
   "name": "python2"
  },
  "language_info": {
   "codemirror_mode": {
    "name": "ipython",
    "version": 2
   },
   "file_extension": ".py",
   "mimetype": "text/x-python",
   "name": "python",
   "nbconvert_exporter": "python",
   "pygments_lexer": "ipython2",
   "version": "2.7.13"
  }
 },
 "nbformat": 4,
 "nbformat_minor": 2
}
