{
 "cells": [
  {
   "cell_type": "code",
   "execution_count": 51,
   "metadata": {
    "collapsed": false,
    "deletable": true,
    "editable": true
   },
   "outputs": [
    {
     "data": {
      "image/png": "[encoded data removed]",
      "text/plain": [
       "<matplotlib.figure.Figure at 0x10d705310>"
      ]
     },
     "metadata": {},
     "output_type": "display_data"
    }
   ],
   "source": [
    "import SuPy.SuPy_module as sp\n",
    "import os\n",
    "import glob\n",
    "import numpy as np\n",
    "import pandas as pd\n",
    "from pandas import DataFrame as df\n",
    "import matplotlib.pyplot as plt\n",
    "# import collections\n",
    "reload(sp)\n",
    "\n",
    "# initialise SUEWS settings\n",
    "dir_input = './Input'\n",
    "dict_mod_cfg, dict_state_init = sp.init_SUEWS_dict(dir_input)\n",
    "\n",
    "# load met forcing\n",
    "filecode = dict_mod_cfg['filecode']\n",
    "tstep = dict_state_init[1]['tstep']\n",
    "list_file_MetForcing = glob.glob(os.path.join(\n",
    "    dir_input, '{}*{}*txt'.format(filecode, tstep / 60)))\n",
    "# load as DataFrame:\n",
    "df_forcing = sp.load_SUEWS_MetForcing_df(list_file_MetForcing[0])\n",
    "# load as dict (faster for simulation if performance is heavily concerned)\n",
    "# dict_forcing = sp.load_SUEWS_MetForcing_dict(list_file_MetForcing[0])\n",
    "\n",
    "\n",
    "# main calulation:\n",
    "# compact form:\n",
    "reload(sp)\n",
    "dict_output, dict_state = sp.run_suews(\n",
    "    df_forcing.iloc[:30].T.to_dict(), dict_state_init)\n",
    "\n",
    "\n",
    "# post-processing:\n",
    "# convert dict of raw output to easier DataFrame:\n",
    "# {grid: Dataframe by group ({'SUEWS','ESTM','snow'})}\n",
    "# df_output = sp.pack_df_output(dict_output)\n",
    "\n",
    "df_output = sp.pack_df_output(dict_output)\n",
    "\n",
    "# plot some variables\n",
    "xx = df_output.loc[1, 'SUEWS'].loc[:, ['QN', 'Kdown', 'Ldown']].plot.line()\n",
    "plt.show(xx)\n"
   ]
  },
  {
   "cell_type": "code",
   "execution_count": 65,
   "metadata": {
    "collapsed": false,
    "deletable": true,
    "editable": true
   },
   "outputs": [],
   "source": [
    "reload(sp);"
   ]
  },
  {
   "cell_type": "code",
   "execution_count": 61,
   "metadata": {
    "collapsed": false,
    "deletable": true,
    "editable": true
   },
   "outputs": [
    {
     "name": "stdout",
     "output_type": "stream",
     "text": [
      "The line_profiler extension is already loaded. To reload it, use:\n",
      "  %reload_ext line_profiler\n"
     ]
    }
   ],
   "source": [
    "%load_ext line_profiler"
   ]
  },
  {
   "cell_type": "code",
   "execution_count": 4,
   "metadata": {
    "collapsed": false,
    "deletable": true,
    "editable": true,
    "scrolled": true
   },
   "outputs": [],
   "source": [
    "%lprun -f sp.load_SUEWS_MetForcing_df sp.load_SUEWS_MetForcing_df(list_file_MetForcing[0])"
   ]
  },
  {
   "cell_type": "code",
   "execution_count": 41,
   "metadata": {
    "collapsed": false,
    "deletable": true,
    "editable": true
   },
   "outputs": [],
   "source": [
    "%lprun -f sp.run_suews sp.run_suews(df_forcing.iloc[:].T.to_dict(), dict_state_init)"
   ]
  },
  {
   "cell_type": "code",
   "execution_count": 66,
   "metadata": {
    "collapsed": false,
    "deletable": true,
    "editable": true
   },
   "outputs": [],
   "source": [
    "%lprun -f sp.suews_cal_tstep sp.run_suews(df_forcing.iloc[:100].T.to_dict(), dict_state_init)"
   ]
  },
  {
   "cell_type": "code",
   "execution_count": 39,
   "metadata": {
    "collapsed": false,
    "deletable": true,
    "editable": true
   },
   "outputs": [],
   "source": [
    "%lprun -f sp.pack_df_output_X sp.pack_df_output_X(dict_output)"
   ]
  },
  {
   "cell_type": "code",
   "execution_count": null,
   "metadata": {
    "collapsed": true,
    "deletable": true,
    "editable": true
   },
   "outputs": [],
   "source": []
  }
 ],
 "metadata": {
  "kernelspec": {
   "display_name": "Python 2",
   "language": "python",
   "name": "python2"
  },
  "language_info": {
   "codemirror_mode": {
    "name": "ipython",
    "version": 2
   },
   "file_extension": ".py",
   "mimetype": "text/x-python",
   "name": "python",
   "nbconvert_exporter": "python",
   "pygments_lexer": "ipython2",
   "version": "2.7.13"
  }
 },
 "nbformat": 4,
 "nbformat_minor": 2
}
